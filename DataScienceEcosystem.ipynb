{
 "cells": [
  {
   "cell_type": "markdown",
   "id": "a4ac4acf-142c-4f61-914e-55d393e8ad20",
   "metadata": {},
   "source": [
    "# Data Science Tools and Ecosystem"
   ]
  },
  {
   "cell_type": "markdown",
   "id": "ea5e36e2-ee13-4e87-a976-21e4bb58d8a1",
   "metadata": {},
   "source": [
    "## Introduction\n",
    "\n",
    "In this notebook, Data Science Tools and Ecosystem are summarized."
   ]
  },
  {
   "cell_type": "markdown",
   "id": "27e033fb-dd20-4f93-8c0d-598fc5a48ce8",
   "metadata": {},
   "source": [
    "**Objectives:**\n",
    "\n",
    "- List popular languages for Data Science.\n",
    "- Identify key libraries used in Data Science.\n",
    "- Explore data science development tools.\n",
    "- Understand and use basic arithmetic operations in Python.\n",
    "- Convert units (e.g., minutes to hours) using Python expressions.\n",
    "\n"
   ]
  },
  {
   "cell_type": "markdown",
   "id": "72d13070-53d8-486a-8f4e-ba6f006b8501",
   "metadata": {},
   "source": [
    "## Data Science Languages\n",
    "\n",
    "Some of the popular languages that Data Scientists use are:\n",
    "\n",
    "1. Python\n",
    "2. R\n",
    "3. SQL\n",
    "4. Julia\n",
    "5. Java\n"
   ]
  },
  {
   "cell_type": "markdown",
   "id": "535e5be1-2312-446c-b87b-919e6ee3ed86",
   "metadata": {},
   "source": [
    "## Data Science Libraries\n",
    "\n",
    "Some of the commonly used libraries used by Data Scientists include:\n",
    "\n",
    "1. NumPy\n",
    "2. Pandas\n",
    "3. Matplotlib\n",
    "4. Scikit-learn\n",
    "5. TensorFlow\n",
    "6. PyTorch\n"
   ]
  },
  {
   "cell_type": "markdown",
   "id": "9b059cd7-9005-44f6-ae83-29a75c7a59d2",
   "metadata": {},
   "source": [
    "## Data Science Tools\n",
    "\n",
    "| Data Science Tools |\n",
    "|--------------------|\n",
    "| Jupyter Notebook   |\n",
    "| RStudio            |\n",
    "| Apache Zeppelin    |\n"
   ]
  },
  {
   "cell_type": "markdown",
   "id": "e9a8d1f8-551c-49b7-a987-104ff8c3a300",
   "metadata": {},
   "source": [
    "### Arithmetic Expression Examples\n",
    "\n",
    "Below are a few examples of evaluating arithmetic expressions in Python:\n"
   ]
  },
  {
   "cell_type": "markdown",
   "id": "7b50ad6a-2bc5-4062-849b-963c15372be2",
   "metadata": {},
   "source": [
    "# This is a simple arithmetic expression to multiply then add integers\n",
    "(3 * 4) + 5\n"
   ]
  },
  {
   "cell_type": "markdown",
   "id": "5105c31a-d284-4cc6-913f-22218de954db",
   "metadata": {},
   "source": [
    " 17\n"
   ]
  },
  {
   "cell_type": "markdown",
   "id": "3173a043-a23e-4cda-8aa8-21ea5e9dd486",
   "metadata": {},
   "source": [
    "# This will convert 200 minutes to hours by dividing by 60\n",
    "200 / 60\n"
   ]
  },
  {
   "cell_type": "markdown",
   "id": "e24c5ddd-d325-4542-ba24-4bd6360fe17c",
   "metadata": {},
   "source": [
    "3.33"
   ]
  },
  {
   "cell_type": "markdown",
   "id": "84133a5a-b346-4fb3-92ed-06840edd4087",
   "metadata": {},
   "source": [
    "## Author\n",
    "\"Mohammad Murtaza Asghari\"\n"
   ]
  },
  {
   "cell_type": "code",
   "execution_count": null,
   "id": "765ea5ad-614a-4810-a10b-86587a495875",
   "metadata": {},
   "outputs": [],
   "source": []
  }
 ],
 "metadata": {
  "kernelspec": {
   "display_name": "Python 3 (ipykernel)",
   "language": "python",
   "name": "python3"
  },
  "language_info": {
   "codemirror_mode": {
    "name": "ipython",
    "version": 3
   },
   "file_extension": ".py",
   "mimetype": "text/x-python",
   "name": "python",
   "nbconvert_exporter": "python",
   "pygments_lexer": "ipython3",
   "version": "3.12.7"
  }
 },
 "nbformat": 4,
 "nbformat_minor": 5
}
